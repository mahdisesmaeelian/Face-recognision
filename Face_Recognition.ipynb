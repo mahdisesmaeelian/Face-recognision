{
  "nbformat": 4,
  "nbformat_minor": 0,
  "metadata": {
    "colab": {
      "name": "Face Recognition.ipynb",
      "provenance": [],
      "collapsed_sections": []
    },
    "kernelspec": {
      "name": "python3",
      "display_name": "Python 3"
    },
    "language_info": {
      "name": "python"
    },
    "accelerator": "GPU"
  },
  "cells": [
    {
      "cell_type": "code",
      "execution_count": null,
      "metadata": {
        "id": "45Rrf99cmv5v"
      },
      "outputs": [],
      "source": [
        "!pip install wandb "
      ]
    },
    {
      "cell_type": "code",
      "source": [
        "import tensorflow as tf\n",
        "from tensorflow.keras.preprocessing.image import ImageDataGenerator\n",
        "from tensorflow.keras.layers import  Conv2D,MaxPooling2D,Dropout,Flatten,Dense\n",
        "from tensorflow.keras import Model\n",
        "\n",
        "from tqdm import tqdm\n",
        "\n",
        "import wandb\n",
        "from wandb.keras import WandbCallback\n",
        "\n",
        "import numpy as np\n",
        "import cv2"
      ],
      "metadata": {
        "id": "K0VsZDxxnE5S"
      },
      "execution_count": 15,
      "outputs": []
    },
    {
      "cell_type": "code",
      "source": [
        "wandb.init(project=\"Face Recognition\")"
      ],
      "metadata": {
        "id": "k62OgyMGnW64"
      },
      "execution_count": null,
      "outputs": []
    },
    {
      "cell_type": "markdown",
      "source": [
        "# **Load Dataset**"
      ],
      "metadata": {
        "id": "UwYrhfoWoGyB"
      }
    },
    {
      "cell_type": "code",
      "source": [
        "dataset_path = \"/content/drive/MyDrive/Datasets/7-7 dataset\"\n",
        "\n",
        "width = height = 224\n",
        "\n",
        "idg = ImageDataGenerator(\n",
        "    rescale = 1./255,\n",
        "    horizontal_flip = True,\n",
        "    zoom_range = 0.1,\n",
        "    brightness_range =  (0.9, 1.1), \n",
        "    validation_split = 0.2\n",
        ")\n",
        "\n",
        "train_data = idg.flow_from_directory(\n",
        "    dataset_path,\n",
        "    target_size = (width , height),\n",
        "    class_mode = 'categorical',\n",
        "    subset = 'training'\n",
        ")\n",
        "\n",
        "val_data = idg.flow_from_directory(\n",
        "    dataset_path,\n",
        "    target_size = (width , height),\n",
        "    class_mode = 'categorical',\n",
        "    subset = 'validation'\n",
        ")"
      ],
      "metadata": {
        "id": "sjuGfLkbnt_e"
      },
      "execution_count": null,
      "outputs": []
    },
    {
      "cell_type": "markdown",
      "source": [
        "# **Model**"
      ],
      "metadata": {
        "id": "7ICAPZP7oYoQ"
      }
    },
    {
      "cell_type": "code",
      "source": [
        "batch_size = 32\n",
        "epochs = 10"
      ],
      "metadata": {
        "id": "tFlZRpwXoYHb"
      },
      "execution_count": 18,
      "outputs": []
    },
    {
      "cell_type": "code",
      "source": [
        "class MahdisNet(Model):\n",
        "  def __init__(self):\n",
        "    super().__init__()\n",
        "\n",
        "    self.Conv2D_1 = Conv2D(32, (3,3), activation = 'relu',input_shape=(width, height, 3))\n",
        "    self.Conv2D_2 = Conv2D(64, (3,3), activation = 'relu')\n",
        "    self.MaxPooling = MaxPooling2D()\n",
        "    self.flatten = Flatten()\n",
        "    self.dense_1 = Dense(128, activation = 'relu')\n",
        "    self.dense_2 = Dense(14, activation='softmax')\n",
        "    self.dropout = Dropout(0.5)\n",
        "\n",
        "  def call(self, x):\n",
        "    y = self.Conv2D_1(x)\n",
        "    z = self.MaxPooling(y)\n",
        "    j = self.Conv2D_2(z)\n",
        "    k = self.MaxPooling(j)\n",
        "    m = self.flatten(k)\n",
        "    n = self.dense_1(m)\n",
        "    w = self.dropout(n)\n",
        "    out = self.dense_2(w)\n",
        "\n",
        "    return out"
      ],
      "metadata": {
        "id": "qKSowpEBowXa"
      },
      "execution_count": 19,
      "outputs": []
    },
    {
      "cell_type": "code",
      "source": [
        "model = MahdisNet()"
      ],
      "metadata": {
        "id": "_XmQiVOoqNOq"
      },
      "execution_count": 20,
      "outputs": []
    },
    {
      "cell_type": "code",
      "source": [
        "config=wandb.config\n",
        "config.learning_rate=0.001"
      ],
      "metadata": {
        "id": "c84SnepcpiUe"
      },
      "execution_count": 21,
      "outputs": []
    },
    {
      "cell_type": "code",
      "source": [
        "optimizer = tf.keras.optimizers.Adam(learning_rate=config.learning_rate)\n",
        "\n",
        "loss_function = tf.keras.losses.CategoricalCrossentropy()"
      ],
      "metadata": {
        "id": "1KMnAFgjpdVg"
      },
      "execution_count": 22,
      "outputs": []
    },
    {
      "cell_type": "code",
      "source": [
        "train_loss = tf.keras.metrics.MeanAbsoluteError()\n",
        "test_loss = tf.keras.metrics.MeanAbsoluteError()\n",
        "train_accuracy = tf.keras.metrics.CategoricalAccuracy()\n",
        "test_accuracy = tf.keras.metrics.CategoricalAccuracy()"
      ],
      "metadata": {
        "id": "GlwU_c91p2UG"
      },
      "execution_count": 23,
      "outputs": []
    },
    {
      "cell_type": "code",
      "source": [
        "#train loop\n",
        "#.fit()\n",
        "for epoch in range (epochs):\n",
        "  train_accuracy.reset_states()\n",
        "  test_accuracy.reset_states()\n",
        "  train_loss.reset_states()\n",
        "  test_loss.reset_states()\n",
        "  print(\"Epoch: \", epoch)\n",
        "\n",
        "  #Training------------------------------\n",
        "  for i ,(images, labels) in enumerate(tqdm(train_data)):\n",
        "    if len(train_data) <= i:\n",
        "            break\n",
        "    with tf.GradientTape() as gTape:\n",
        "      predictions = model(images)\n",
        "      loss = loss_function(labels, predictions)\n",
        "\n",
        "      train_loss(labels, predictions)\n",
        "      train_accuracy(labels, predictions)\n",
        "\n",
        "    #محاسبات مشتق ها\n",
        "    gradiants = gTape.gradient(loss, model.trainable_variables)\n",
        "    \n",
        "    #update w\n",
        "    optimizer.apply_gradients(zip(gradiants, model.trainable_variables))\n",
        "  \n",
        "  #Validation---------------------------\n",
        "  for i, (images, labels) in enumerate(tqdm(val_data)):\n",
        "    if len(train_data) <= i:\n",
        "            break\n",
        "    predictions = model(images)\n",
        "    loss = loss_function(labels, predictions)\n",
        "    test_accuracy(labels, predictions)\n",
        "    test_loss(labels, predictions)\n",
        "\n",
        "  print(\"Train Accuracy: \",train_accuracy.result())\n",
        "  print(\"Test Accuracy: \",test_accuracy.result())\n",
        "  print(\"Train loss : \", train_loss.result())\n",
        "  print(\"Test loss : \", test_loss.result())\n",
        "\n",
        "  wandb.log({'epochs':  epoch ,\n",
        "              'Train_loss': np.mean(train_loss.result()),\n",
        "              'Train_accuracy': float(train_accuracy.result()), \n",
        "              'val_loss': np.mean(test_loss.result()),\n",
        "              'val_accuracy':float(test_accuracy.result())})"
      ],
      "metadata": {
        "colab": {
          "base_uri": "https://localhost:8080/"
        },
        "id": "8W9eO585p8he",
        "outputId": "26c34750-2c23-4c44-9d85-b9efdd5ec53b"
      },
      "execution_count": 24,
      "outputs": [
        {
          "output_type": "stream",
          "name": "stdout",
          "text": [
            "Epoch:  0\n"
          ]
        },
        {
          "output_type": "stream",
          "name": "stderr",
          "text": [
            "100%|██████████| 35/35 [00:34<00:00,  1.02it/s]\n",
            "35it [00:32,  1.07it/s]\n"
          ]
        },
        {
          "output_type": "stream",
          "name": "stdout",
          "text": [
            "Train Accuracy:  tf.Tensor(0.19266056, shape=(), dtype=float32)\n",
            "Test Accuracy:  tf.Tensor(0.33396226, shape=(), dtype=float32)\n",
            "Train loss :  tf.Tensor(0.12913331, shape=(), dtype=float32)\n",
            "Test loss :  tf.Tensor(0.11811438, shape=(), dtype=float32)\n",
            "Epoch:  1\n"
          ]
        },
        {
          "output_type": "stream",
          "name": "stderr",
          "text": [
            "100%|██████████| 35/35 [00:34<00:00,  1.03it/s]\n",
            "35it [00:32,  1.06it/s]\n"
          ]
        },
        {
          "output_type": "stream",
          "name": "stdout",
          "text": [
            "Train Accuracy:  tf.Tensor(0.59541285, shape=(), dtype=float32)\n",
            "Test Accuracy:  tf.Tensor(0.51226413, shape=(), dtype=float32)\n",
            "Train loss :  tf.Tensor(0.08583041, shape=(), dtype=float32)\n",
            "Test loss :  tf.Tensor(0.08752284, shape=(), dtype=float32)\n",
            "Epoch:  2\n"
          ]
        },
        {
          "output_type": "stream",
          "name": "stderr",
          "text": [
            "100%|██████████| 35/35 [00:34<00:00,  1.02it/s]\n",
            "35it [00:33,  1.06it/s]\n"
          ]
        },
        {
          "output_type": "stream",
          "name": "stdout",
          "text": [
            "Train Accuracy:  tf.Tensor(0.78623855, shape=(), dtype=float32)\n",
            "Test Accuracy:  tf.Tensor(0.6716981, shape=(), dtype=float32)\n",
            "Train loss :  tf.Tensor(0.049430586, shape=(), dtype=float32)\n",
            "Test loss :  tf.Tensor(0.06099772, shape=(), dtype=float32)\n",
            "Epoch:  3\n"
          ]
        },
        {
          "output_type": "stream",
          "name": "stderr",
          "text": [
            "100%|██████████| 35/35 [00:33<00:00,  1.03it/s]\n",
            "35it [00:32,  1.08it/s]\n"
          ]
        },
        {
          "output_type": "stream",
          "name": "stdout",
          "text": [
            "Train Accuracy:  tf.Tensor(0.85779816, shape=(), dtype=float32)\n",
            "Test Accuracy:  tf.Tensor(0.7726415, shape=(), dtype=float32)\n",
            "Train loss :  tf.Tensor(0.03591005, shape=(), dtype=float32)\n",
            "Test loss :  tf.Tensor(0.044589244, shape=(), dtype=float32)\n",
            "Epoch:  4\n"
          ]
        },
        {
          "output_type": "stream",
          "name": "stderr",
          "text": [
            "100%|██████████| 35/35 [00:33<00:00,  1.04it/s]\n",
            "35it [00:32,  1.07it/s]\n"
          ]
        },
        {
          "output_type": "stream",
          "name": "stdout",
          "text": [
            "Train Accuracy:  tf.Tensor(0.91009176, shape=(), dtype=float32)\n",
            "Test Accuracy:  tf.Tensor(0.790566, shape=(), dtype=float32)\n",
            "Train loss :  tf.Tensor(0.024588117, shape=(), dtype=float32)\n",
            "Test loss :  tf.Tensor(0.037681952, shape=(), dtype=float32)\n",
            "Epoch:  5\n"
          ]
        },
        {
          "output_type": "stream",
          "name": "stderr",
          "text": [
            "100%|██████████| 35/35 [00:33<00:00,  1.04it/s]\n",
            "35it [00:32,  1.08it/s]\n"
          ]
        },
        {
          "output_type": "stream",
          "name": "stdout",
          "text": [
            "Train Accuracy:  tf.Tensor(0.9522936, shape=(), dtype=float32)\n",
            "Test Accuracy:  tf.Tensor(0.8283019, shape=(), dtype=float32)\n",
            "Train loss :  tf.Tensor(0.014840373, shape=(), dtype=float32)\n",
            "Test loss :  tf.Tensor(0.03353566, shape=(), dtype=float32)\n",
            "Epoch:  6\n"
          ]
        },
        {
          "output_type": "stream",
          "name": "stderr",
          "text": [
            "100%|██████████| 35/35 [00:34<00:00,  1.01it/s]\n",
            "35it [00:33,  1.05it/s]\n"
          ]
        },
        {
          "output_type": "stream",
          "name": "stdout",
          "text": [
            "Train Accuracy:  tf.Tensor(0.9522936, shape=(), dtype=float32)\n",
            "Test Accuracy:  tf.Tensor(0.8273585, shape=(), dtype=float32)\n",
            "Train loss :  tf.Tensor(0.014153169, shape=(), dtype=float32)\n",
            "Test loss :  tf.Tensor(0.0344278, shape=(), dtype=float32)\n",
            "Epoch:  7\n"
          ]
        },
        {
          "output_type": "stream",
          "name": "stderr",
          "text": [
            "100%|██████████| 35/35 [00:33<00:00,  1.03it/s]\n",
            "35it [00:31,  1.10it/s]\n"
          ]
        },
        {
          "output_type": "stream",
          "name": "stdout",
          "text": [
            "Train Accuracy:  tf.Tensor(0.94587153, shape=(), dtype=float32)\n",
            "Test Accuracy:  tf.Tensor(0.7641509, shape=(), dtype=float32)\n",
            "Train loss :  tf.Tensor(0.013856041, shape=(), dtype=float32)\n",
            "Test loss :  tf.Tensor(0.04420266, shape=(), dtype=float32)\n",
            "Epoch:  8\n"
          ]
        },
        {
          "output_type": "stream",
          "name": "stderr",
          "text": [
            "100%|██████████| 35/35 [00:33<00:00,  1.05it/s]\n",
            "35it [00:32,  1.08it/s]\n"
          ]
        },
        {
          "output_type": "stream",
          "name": "stdout",
          "text": [
            "Train Accuracy:  tf.Tensor(0.94220185, shape=(), dtype=float32)\n",
            "Test Accuracy:  tf.Tensor(0.8037736, shape=(), dtype=float32)\n",
            "Train loss :  tf.Tensor(0.016296305, shape=(), dtype=float32)\n",
            "Test loss :  tf.Tensor(0.032151587, shape=(), dtype=float32)\n",
            "Epoch:  9\n"
          ]
        },
        {
          "output_type": "stream",
          "name": "stderr",
          "text": [
            "100%|██████████| 35/35 [00:34<00:00,  1.01it/s]\n",
            "35it [00:34,  1.01it/s]"
          ]
        },
        {
          "output_type": "stream",
          "name": "stdout",
          "text": [
            "Train Accuracy:  tf.Tensor(0.9752294, shape=(), dtype=float32)\n",
            "Test Accuracy:  tf.Tensor(0.8462264, shape=(), dtype=float32)\n",
            "Train loss :  tf.Tensor(0.008704695, shape=(), dtype=float32)\n",
            "Test loss :  tf.Tensor(0.027487412, shape=(), dtype=float32)\n"
          ]
        },
        {
          "output_type": "stream",
          "name": "stderr",
          "text": [
            "\n"
          ]
        }
      ]
    },
    {
      "cell_type": "code",
      "source": [
        "model.save_weights(\"/content/drive/MyDrive/Datasets/face_recognition.h5\")"
      ],
      "metadata": {
        "id": "e-iHBffIuKHj"
      },
      "execution_count": 27,
      "outputs": []
    }
  ]
}